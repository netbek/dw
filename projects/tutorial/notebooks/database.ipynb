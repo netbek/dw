{
 "cells": [
  {
   "cell_type": "code",
   "execution_count": null,
   "id": "7ea3545f",
   "metadata": {
    "scrolled": true
   },
   "outputs": [],
   "source": [
    "from package.database import get_client, render_statement\n",
    "from projects.tutorial.config.settings import get_settings\n",
    "\n",
    "settings = get_settings()"
   ]
  },
  {
   "cell_type": "markdown",
   "id": "2906e33f",
   "metadata": {},
   "source": [
    "# Execute query"
   ]
  },
  {
   "cell_type": "code",
   "execution_count": null,
   "id": "26c4f647",
   "metadata": {},
   "outputs": [],
   "source": [
    "query = \"\"\"\n",
    "select name, engine\n",
    "from system.databases\n",
    "\"\"\"\n",
    "\n",
    "with get_client(settings.destination_db.URL) as client:\n",
    "    df = client.query_df(query)\n",
    "\n",
    "df"
   ]
  },
  {
   "cell_type": "markdown",
   "id": "47d231b1",
   "metadata": {},
   "source": [
    "# Add parameters"
   ]
  },
  {
   "cell_type": "code",
   "execution_count": null,
   "id": "b4aebd6e",
   "metadata": {},
   "outputs": [],
   "source": [
    "query = \"\"\"\n",
    "select name, engine\n",
    "from system.databases\n",
    "where engine in {engines:Array(String)}\n",
    "\"\"\"\n",
    "parameters = {\n",
    "    'engines': ['Atomic']\n",
    "}\n",
    "\n",
    "with get_client(settings.destination_db.URL) as client:\n",
    "    df = client.query_df(query, parameters=parameters)\n",
    "\n",
    "df"
   ]
  },
  {
   "cell_type": "markdown",
   "id": "3a492805",
   "metadata": {},
   "source": [
    "# Add Jinja"
   ]
  },
  {
   "cell_type": "code",
   "execution_count": null,
   "id": "c7c3c229",
   "metadata": {},
   "outputs": [],
   "source": [
    "query = \"\"\"\n",
    "select {{ columns|join(', ') }}\n",
    "from system.databases\n",
    "where engine in {engines:Array(String)}\n",
    "\"\"\"\n",
    "context = {\n",
    "    'columns': ['name', 'engine']\n",
    "}\n",
    "query = render_statement(query, context=context)\n",
    "\n",
    "with get_client(settings.destination_db.URL) as client:\n",
    "    df = client.query_df(query, parameters=parameters)\n",
    "\n",
    "df"
   ]
  }
 ],
 "metadata": {
  "kernelspec": {
   "display_name": "Python 3 (ipykernel)",
   "language": "python",
   "name": "python3"
  },
  "language_info": {
   "codemirror_mode": {
    "name": "ipython",
    "version": 3
   },
   "file_extension": ".py",
   "mimetype": "text/x-python",
   "name": "python",
   "nbconvert_exporter": "python",
   "pygments_lexer": "ipython3",
   "version": "3.12.3"
  }
 },
 "nbformat": 4,
 "nbformat_minor": 5
}
