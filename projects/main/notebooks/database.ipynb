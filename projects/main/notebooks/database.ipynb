{
 "cells": [
  {
   "cell_type": "code",
   "execution_count": 1,
   "id": "7ea3545f",
   "metadata": {
    "scrolled": true
   },
   "outputs": [],
   "source": [
    "import pandas as pd\n",
    "from package.database import Database\n",
    "from package.constants import CLICKHOUSE_URL"
   ]
  },
  {
   "cell_type": "markdown",
   "id": "2906e33f",
   "metadata": {},
   "source": [
    "# Query"
   ]
  },
  {
   "cell_type": "code",
   "execution_count": 2,
   "id": "26c4f647",
   "metadata": {},
   "outputs": [
    {
     "data": {
      "text/html": [
       "<div>\n",
       "<style scoped>\n",
       "    .dataframe tbody tr th:only-of-type {\n",
       "        vertical-align: middle;\n",
       "    }\n",
       "\n",
       "    .dataframe tbody tr th {\n",
       "        vertical-align: top;\n",
       "    }\n",
       "\n",
       "    .dataframe thead th {\n",
       "        text-align: right;\n",
       "    }\n",
       "</style>\n",
       "<table border=\"1\" class=\"dataframe\">\n",
       "  <thead>\n",
       "    <tr style=\"text-align: right;\">\n",
       "      <th></th>\n",
       "      <th>name</th>\n",
       "      <th>engine</th>\n",
       "    </tr>\n",
       "  </thead>\n",
       "  <tbody>\n",
       "    <tr>\n",
       "      <th>0</th>\n",
       "      <td>INFORMATION_SCHEMA</td>\n",
       "      <td>Memory</td>\n",
       "    </tr>\n",
       "    <tr>\n",
       "      <th>1</th>\n",
       "      <td>default</td>\n",
       "      <td>Atomic</td>\n",
       "    </tr>\n",
       "    <tr>\n",
       "      <th>2</th>\n",
       "      <td>information_schema</td>\n",
       "      <td>Memory</td>\n",
       "    </tr>\n",
       "    <tr>\n",
       "      <th>3</th>\n",
       "      <td>system</td>\n",
       "      <td>Atomic</td>\n",
       "    </tr>\n",
       "  </tbody>\n",
       "</table>\n",
       "</div>"
      ],
      "text/plain": [
       "                 name  engine\n",
       "0  INFORMATION_SCHEMA  Memory\n",
       "1             default  Atomic\n",
       "2  information_schema  Memory\n",
       "3              system  Atomic"
      ]
     },
     "execution_count": 2,
     "metadata": {},
     "output_type": "execute_result"
    }
   ],
   "source": [
    "query = \"\"\"\n",
    "select name, engine\n",
    "from system.databases\n",
    "\"\"\"\n",
    "\n",
    "with Database(CLICKHOUSE_URL) as db:\n",
    "    result = db.execute(query)\n",
    "    df = pd.DataFrame(result.all())\n",
    "\n",
    "df"
   ]
  },
  {
   "cell_type": "markdown",
   "id": "47d231b1",
   "metadata": {},
   "source": [
    "# Add parameters"
   ]
  },
  {
   "cell_type": "code",
   "execution_count": 3,
   "id": "b4aebd6e",
   "metadata": {},
   "outputs": [
    {
     "data": {
      "text/html": [
       "<div>\n",
       "<style scoped>\n",
       "    .dataframe tbody tr th:only-of-type {\n",
       "        vertical-align: middle;\n",
       "    }\n",
       "\n",
       "    .dataframe tbody tr th {\n",
       "        vertical-align: top;\n",
       "    }\n",
       "\n",
       "    .dataframe thead th {\n",
       "        text-align: right;\n",
       "    }\n",
       "</style>\n",
       "<table border=\"1\" class=\"dataframe\">\n",
       "  <thead>\n",
       "    <tr style=\"text-align: right;\">\n",
       "      <th></th>\n",
       "      <th>name</th>\n",
       "      <th>engine</th>\n",
       "    </tr>\n",
       "  </thead>\n",
       "  <tbody>\n",
       "    <tr>\n",
       "      <th>0</th>\n",
       "      <td>default</td>\n",
       "      <td>Atomic</td>\n",
       "    </tr>\n",
       "    <tr>\n",
       "      <th>1</th>\n",
       "      <td>system</td>\n",
       "      <td>Atomic</td>\n",
       "    </tr>\n",
       "  </tbody>\n",
       "</table>\n",
       "</div>"
      ],
      "text/plain": [
       "      name  engine\n",
       "0  default  Atomic\n",
       "1   system  Atomic"
      ]
     },
     "execution_count": 3,
     "metadata": {},
     "output_type": "execute_result"
    }
   ],
   "source": [
    "query = \"\"\"\n",
    "select name, engine\n",
    "from system.databases\n",
    "where engine in :engines\n",
    "\"\"\"\n",
    "params = {\n",
    "    'engines': ['Atomic']\n",
    "}\n",
    "\n",
    "with Database(CLICKHOUSE_URL) as db:\n",
    "    result = db.execute(query, params=params)\n",
    "    df = pd.DataFrame(result.all())\n",
    "\n",
    "df"
   ]
  },
  {
   "cell_type": "markdown",
   "id": "3a492805",
   "metadata": {},
   "source": [
    "# Add Jinja"
   ]
  },
  {
   "cell_type": "code",
   "execution_count": 4,
   "id": "c7c3c229",
   "metadata": {},
   "outputs": [
    {
     "data": {
      "text/html": [
       "<div>\n",
       "<style scoped>\n",
       "    .dataframe tbody tr th:only-of-type {\n",
       "        vertical-align: middle;\n",
       "    }\n",
       "\n",
       "    .dataframe tbody tr th {\n",
       "        vertical-align: top;\n",
       "    }\n",
       "\n",
       "    .dataframe thead th {\n",
       "        text-align: right;\n",
       "    }\n",
       "</style>\n",
       "<table border=\"1\" class=\"dataframe\">\n",
       "  <thead>\n",
       "    <tr style=\"text-align: right;\">\n",
       "      <th></th>\n",
       "      <th>name</th>\n",
       "      <th>engine</th>\n",
       "    </tr>\n",
       "  </thead>\n",
       "  <tbody>\n",
       "    <tr>\n",
       "      <th>0</th>\n",
       "      <td>default</td>\n",
       "      <td>Atomic</td>\n",
       "    </tr>\n",
       "    <tr>\n",
       "      <th>1</th>\n",
       "      <td>system</td>\n",
       "      <td>Atomic</td>\n",
       "    </tr>\n",
       "  </tbody>\n",
       "</table>\n",
       "</div>"
      ],
      "text/plain": [
       "      name  engine\n",
       "0  default  Atomic\n",
       "1   system  Atomic"
      ]
     },
     "execution_count": 4,
     "metadata": {},
     "output_type": "execute_result"
    }
   ],
   "source": [
    "query = \"\"\"\n",
    "select {{ columns|join(', ') }}\n",
    "from system.databases\n",
    "where engine in :engines\n",
    "\"\"\"\n",
    "context = {\n",
    "    'columns': ['name', 'engine']\n",
    "}\n",
    "params = {\n",
    "    'engines': ['Atomic']\n",
    "}\n",
    "\n",
    "with Database(CLICKHOUSE_URL) as db:\n",
    "    result = db.execute(query, context=context, params=params)\n",
    "    df = pd.DataFrame(result.all())\n",
    "\n",
    "df"
   ]
  },
  {
   "cell_type": "markdown",
   "id": "63de2eda",
   "metadata": {},
   "source": [
    "# Inspect rendered statement"
   ]
  },
  {
   "cell_type": "code",
   "execution_count": 5,
   "id": "15db3371",
   "metadata": {},
   "outputs": [
    {
     "name": "stdout",
     "output_type": "stream",
     "text": [
      "\n",
      "select name, engine\n",
      "from system.databases\n",
      "where engine in ('Atomic');\n"
     ]
    }
   ],
   "source": [
    "query = \"\"\"\n",
    "select {{ columns|join(', ') }}\n",
    "from system.databases\n",
    "where engine in :engines\n",
    "\"\"\"\n",
    "context = {\n",
    "    'columns': ['name', 'engine']\n",
    "}\n",
    "params = {\n",
    "    'engines': ['Atomic']\n",
    "}\n",
    "\n",
    "with Database(CLICKHOUSE_URL) as db:\n",
    "    rendered = db.render_statement(query, context=context, params=params)\n",
    "\n",
    "print(rendered)"
   ]
  }
 ],
 "metadata": {
  "kernelspec": {
   "display_name": "Python 3 (ipykernel)",
   "language": "python",
   "name": "python3"
  },
  "language_info": {
   "codemirror_mode": {
    "name": "ipython",
    "version": 3
   },
   "file_extension": ".py",
   "mimetype": "text/x-python",
   "name": "python",
   "nbconvert_exporter": "python",
   "pygments_lexer": "ipython3",
   "version": "3.11.6"
  }
 },
 "nbformat": 4,
 "nbformat_minor": 5
}
